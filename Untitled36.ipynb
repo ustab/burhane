{
  "nbformat": 4,
  "nbformat_minor": 0,
  "metadata": {
    "colab": {
      "name": "Untitled36.ipynb",
      "provenance": [],
      "authorship_tag": "ABX9TyMELGR36uJfp5QigEabMA4G"
    },
    "kernelspec": {
      "name": "python3",
      "display_name": "Python 3"
    },
    "language_info": {
      "name": "python"
    }
  },
  "cells": [
    {
      "cell_type": "code",
      "execution_count": 13,
      "metadata": {
        "colab": {
          "base_uri": "https://localhost:8080/",
          "height": 122
        },
        "id": "gnwPg69AU-Jh",
        "outputId": "c8a012a8-dcaf-4375-c448-367f51626d2f"
      },
      "outputs": [
        {
          "output_type": "stream",
          "name": "stdout",
          "text": [
            "9998 cifttoplam\n",
            "1 cift adettir\n",
            "9999 tek toplam\n",
            "1 tek adet dir\n"
          ]
        },
        {
          "output_type": "execute_result",
          "data": {
            "application/vnd.google.colaboratory.intrinsic+json": {
              "type": "string"
            },
            "text/plain": [
              "'\\nprint(\"tek sayi adedi\" )\\nprint(\"tek sayi toplam\" )\\nprint(\"tek sayi ortalamasi\" )\\n\\nprint(\"cift sayi adedi\")\\nprint(\"cift sayi toplam\" )\\nprint(\"cift sayi ortalamasi\" ) \\n'"
            ]
          },
          "metadata": {},
          "execution_count": 13
        }
      ],
      "source": [
        "tektoplam=0\n",
        "tekadet=0\n",
        "cifttoplam=0\n",
        "ciftadet=0\n",
        "for i in range(500,10000):\n",
        "    if i % 2==0:\n",
        "        cifttoplam=+i\n",
        "        ciftadet=+1\n",
        "    else:\n",
        "        tektoplam=+i\n",
        "        tekadet=+1\n",
        "\n",
        "print (\"{} cifttoplam\".format(cifttoplam))\n",
        "print(\"{} cift adettir\".format(ciftadet))\n",
        "print (\"{} tek toplam\".format(tektoplam)) \n",
        "print (\"{} tek adet dir\".format(tekadet))     \n",
        "\n"
      ]
    },
    {
      "cell_type": "code",
      "source": [
        "sayilar = [18,15,22,19,85,32,65,30,95,10,12,20,32,55,34,28,101,5,4,32]\n",
        "sayac=0 \n",
        "for sayi in sayilar:\n",
        "  if sayi% 14 == 0:\n",
        "    print ( \"{} sayısı 14'in katıdır.\".format(sayi))\n",
        "    sayac=sayac+1\n",
        " \n",
        "print(\"14'in katı olan sayı adeti : \"+str(sayac))"
      ],
      "metadata": {
        "colab": {
          "base_uri": "https://localhost:8080/"
        },
        "id": "ijunbrnEnopi",
        "outputId": "a1e9cc19-43c5-4033-c297-7c1692c2e504"
      },
      "execution_count": 15,
      "outputs": [
        {
          "output_type": "stream",
          "name": "stdout",
          "text": [
            "28 sayısı 14'in katıdır.\n",
            "14'in katı olan sayı adeti : 1\n"
          ]
        }
      ]
    }
  ]
}